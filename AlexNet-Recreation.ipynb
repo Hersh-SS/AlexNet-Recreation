{
 "cells": [
  {
   "cell_type": "code",
   "execution_count": null,
   "id": "7460fa75",
   "metadata": {
    "scrolled": true
   },
   "outputs": [],
   "source": [
    "import tensorflow as tf\n",
    "from tensorflow.keras.datasets import cifar10\n",
    "from tensorflow.keras.models import Sequential\n",
    "from tensorflow.keras.layers import Conv2D, MaxPooling2D, Flatten, Dense, Dropout, BatchNormalization, Layer\n",
    "from tensorflow.keras.utils import to_categorical\n",
    "import numpy as np"
   ]
  },
  {
   "cell_type": "code",
   "execution_count": null,
   "id": "4610a744",
   "metadata": {},
   "outputs": [],
   "source": [
    "X_train = []\n",
    "Y_train = []\n",
    "for i in range(1, 6):\n",
    "    X_batch, Y_batch = load_cifar10_batch(f'C:\\Users\\proud\\cifar-10-batches-py\\data_batch')\n",
    "    X_train.append(X_batch)\n",
    "    Y_train.append(Y_batch)\n",
    "\n",
    "X_train = np.concatenate(X_train, axis=0)\n",
    "Y_train = np.concatenate(Y_train, axis=0)\n",
    "\n",
    "# Load test batch\n",
    "X_test, Y_test = load_cifar10_batch('C:\\Users\\proud\\cifar-10-batches-py\\test_batch')"
   ]
  },
  {
   "cell_type": "code",
   "execution_count": null,
   "id": "f7d7a482",
   "metadata": {},
   "outputs": [],
   "source": []
  }
 ],
 "metadata": {
  "kernelspec": {
   "display_name": "Python (myenv)",
   "language": "python",
   "name": "myenv"
  },
  "language_info": {
   "codemirror_mode": {
    "name": "ipython",
    "version": 3
   },
   "file_extension": ".py",
   "mimetype": "text/x-python",
   "name": "python",
   "nbconvert_exporter": "python",
   "pygments_lexer": "ipython3",
   "version": "3.7.16"
  }
 },
 "nbformat": 4,
 "nbformat_minor": 5
}
