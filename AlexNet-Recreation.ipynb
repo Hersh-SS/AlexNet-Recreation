{
 "cells": [
  {
   "cell_type": "code",
   "execution_count": null,
   "id": "7460fa75",
   "metadata": {
    "scrolled": true
   },
   "outputs": [],
   "source": [
    "import tensorflow as tf\n",
    "import pickle\n",
    "from tensorflow.keras.datasets import cifar10\n",
    "from tensorflow.keras.models import Sequential\n",
    "from tensorflow.keras.layers import Conv2D, MaxPooling2D, Flatten, Dense, Dropout, BatchNormalization, Layer\n",
    "from tensorflow.keras.utils import to_categorical\n",
    "import numpy as np"
   ]
  },
  {
   "cell_type": "code",
   "execution_count": null,
   "id": "4610a744",
   "metadata": {},
   "outputs": [],
   "source": [
    "def load_cifar10_batch(file):\n",
    "    with open(file, 'rb') as f:\n",
    "        dict = pickle.load(f, encoding='bytes')\n",
    "        X = dict[b'data']\n",
    "        Y = dict[b'labels']\n",
    "        X = X.reshape(10000, 3, 32, 32).transpose(0, 2, 3, 1).astype(\"float\")\n",
    "        Y = np.array(Y)\n",
    "        return X, Y\n",
    "\n",
    "# Load all training batches\n",
    "X_train = []\n",
    "Y_train = []\n",
    "for i in range(1, 6):\n",
    "    X_batch, Y_batch = load_cifar10_batch(f'\\cifar-10-batches-py\\data_batch_{i}')\n",
    "    X_train.append(X_batch)\n",
    "    Y_train.append(Y_batch)\n",
    "\n",
    "X_train = np.concatenate(X_train, axis=0)\n",
    "Y_train = np.concatenate(Y_train, axis=0)\n",
    "\n",
    "# Load test batch\n",
    "X_test, Y_test = load_cifar10_batch('cifar-10-batches-py\\test_batch')\n",
    "\n",
    "# Normalize pixel values to be between 0 and 1\n",
    "X_train, X_test = X_train / 255.0, X_test / 255.0\n",
    "\n",
    "# Convert class vectors to binary class matrices (one-hot encoding)\n",
    "Y_train = to_categorical(Y_train, 10)\n",
    "Y_test = to_categorical(Y_test, 10)"
   ]
  },
  {
   "cell_type": "markdown",
   "id": "7bc4c98b",
   "metadata": {},
   "source": [
    "We have to implement a Local Response Normalization (LRN) Layer, which is used in AlexNet but is not predefined in keras."
   ]
  },
  {
   "cell_type": "code",
   "execution_count": null,
   "id": "d0d0d6bd",
   "metadata": {},
   "outputs": [],
   "source": [
    "class LRN(Layer):\n",
    "    def __init__(self, **kwargs):\n",
    "        super(LRN, self).__init__(**kwargs)\n",
    "\n",
    "    def call(self, x):\n",
    "        return tf.nn.local_response_normalization(x, depth_radius=5, alpha=0.0001, beta=0.75, bias=2.0)"
   ]
  },
  {
   "cell_type": "code",
   "execution_count": null,
   "id": "92dd5b12",
   "metadata": {},
   "outputs": [],
   "source": [
    "alexnet = Sequential()\n",
    "\n",
    "# 1st Convolutional Layer\n",
    "alexnet.add(Conv2D(filters=96, input_shape=(227,227,3), kernel_size=(11,11), strides=(4,4), padding='valid', activation='relu'))\n",
    "alexnet.add(BatchNormalization())\n",
    "alexnet.add(MaxPooling2D(pool_size=(3,3), strides=(2,2), padding='valid'))\n",
    "alexnet.add(LRN())\n",
    "\n",
    "# 2nd Convolutional Layer\n",
    "alexnet.add(Conv2D(filters=256, kernel_size=(5,5), strides=(1,1), padding='same', activation='relu'))\n",
    "alexnet.add(BatchNormalization())\n",
    "alexnet.add(MaxPooling2D(pool_size=(3,3), strides=(2,2), padding='valid'))\n",
    "alexnet.add(LRN())\n",
    "\n",
    "# 3rd Convolutional Layer\n",
    "alexnet.add(Conv2D(filters=384, kernel_size=(3,3), strides=(1,1), padding='same', activation='relu'))\n",
    "\n",
    "# 4th Convolutional Layer\n",
    "alexnet.add(Conv2D(filters=384, kernel_size=(3,3), strides=(1,1), padding='same', activation='relu'))\n",
    "\n",
    "# 5th Convolutional Layer\n",
    "alexnet.add(Conv2D(filters=256, kernel_size=(3,3), strides=(1,1), padding='same', activation='relu'))\n",
    "alexnet.add(MaxPooling2D(pool_size=(3,3), strides=(2,2), padding='valid'))\n",
    "\n",
    "# Passing it to a Fully Connected layer\n",
    "alexnet.add(Flatten())\n",
    "\n",
    "# 1st Fully Connected Layer\n",
    "alexnet.add(Dense(4096, activation='relu'))\n",
    "alexnet.add(Dropout(0.5))\n",
    "\n",
    "# 2nd Fully Connected Layer\n",
    "alexnet.add(Dense(4096, activation='relu'))\n",
    "alexnet.add(Dropout(0.5))\n",
    "\n",
    "# Output Layer\n",
    "alexnet.add(Dense(10, activation='softmax'))"
   ]
  },
  {
   "cell_type": "code",
   "execution_count": null,
   "id": "6e80014d",
   "metadata": {},
   "outputs": [],
   "source": [
    "alexnet.compile(optimizer=tf.keras.optimizers.Adam(0.001), loss='categorical_crossentropy', metrics=['accuracy'])"
   ]
  },
  {
   "cell_type": "code",
   "execution_count": null,
   "id": "42923d2d",
   "metadata": {},
   "outputs": [],
   "source": [
    "alexnet.fit(x_train, y_train, batch_size=64, epochs=10, validation_data=(x_test, y_test))"
   ]
  }
 ],
 "metadata": {
  "kernelspec": {
   "display_name": "Python (myenv)",
   "language": "python",
   "name": "myenv"
  },
  "language_info": {
   "codemirror_mode": {
    "name": "ipython",
    "version": 3
   },
   "file_extension": ".py",
   "mimetype": "text/x-python",
   "name": "python",
   "nbconvert_exporter": "python",
   "pygments_lexer": "ipython3",
   "version": "3.7.16"
  }
 },
 "nbformat": 4,
 "nbformat_minor": 5
}
